{
 "cells": [
  {
   "cell_type": "code",
   "execution_count": 3,
   "metadata": {},
   "outputs": [],
   "source": [
    "import numpy as np\n",
    "from thinkdsp import CosSignal, SumSignal\n",
    "from thinkdsp import Wave"
   ]
  },
  {
   "cell_type": "code",
   "execution_count": 4,
   "metadata": {},
   "outputs": [],
   "source": [
    "PI2 = np.pi * 2"
   ]
  },
  {
   "cell_type": "markdown",
   "metadata": {},
   "source": [
    "## Synthesize"
   ]
  },
  {
   "cell_type": "code",
   "execution_count": 26,
   "metadata": {},
   "outputs": [],
   "source": [
    "amps = np.array([0.6, 0.25, 0.1, 0.05])\n",
    "fs = [100, 200, 300, 400]\n",
    "framerate = 11025"
   ]
  },
  {
   "cell_type": "code",
   "execution_count": 27,
   "metadata": {},
   "outputs": [],
   "source": [
    "ts=np.linspace(0, 1,num=framerate, endpoint=False)"
   ]
  },
  {
   "cell_type": "code",
   "execution_count": 28,
   "metadata": {},
   "outputs": [],
   "source": [
    "def synthesize2(amps, fs, ts):\n",
    "    args=np.outer(ts, fs)\n",
    "    M = np.cos(PI2*args)\n",
    "    ys=np.dot(M, amps)\n",
    "    return ys"
   ]
  },
  {
   "cell_type": "code",
   "execution_count": 29,
   "metadata": {},
   "outputs": [],
   "source": [
    "ys =synthesize2(amps, fs, ts)"
   ]
  },
  {
   "cell_type": "code",
   "execution_count": 30,
   "metadata": {},
   "outputs": [
    {
     "data": {
      "text/html": [
       "\n",
       "                <audio  controls=\"controls\" >\n",
       "                    <source src=\"data:audio/wav;base64,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\" type=\"audio/wav\" />\n",
       "                    Your browser does not support the audio element.\n",
       "                </audio>\n",
       "              "
      ],
      "text/plain": [
       "<IPython.lib.display.Audio object>"
      ]
     },
     "execution_count": 30,
     "metadata": {},
     "output_type": "execute_result"
    }
   ],
   "source": [
    "wave = Wave(ys, ts, framerate)\n",
    "wave.apodize()\n",
    "wave.make_audio()"
   ]
  },
  {
   "cell_type": "markdown",
   "metadata": {},
   "source": [
    "## DCT-IV"
   ]
  },
  {
   "cell_type": "code",
   "execution_count": 31,
   "metadata": {},
   "outputs": [
    {
     "data": {
      "text/plain": [
       "11025"
      ]
     },
     "execution_count": 31,
     "metadata": {},
     "output_type": "execute_result"
    }
   ],
   "source": [
    "N=len(ys)\n",
    "N"
   ]
  },
  {
   "cell_type": "code",
   "execution_count": 32,
   "metadata": {},
   "outputs": [
    {
     "data": {
      "text/plain": [
       "array([    0,     1,     2, ..., 11022, 11023, 11024])"
      ]
     },
     "execution_count": 32,
     "metadata": {},
     "output_type": "execute_result"
    }
   ],
   "source": [
    "np.arange(N)"
   ]
  },
  {
   "cell_type": "code",
   "execution_count": 33,
   "metadata": {},
   "outputs": [
    {
     "data": {
      "text/plain": [
       "array([4.53514739e-05, 1.36054422e-04, 2.26757370e-04, ...,\n",
       "       9.99773243e-01, 9.99863946e-01, 9.99954649e-01])"
      ]
     },
     "execution_count": 33,
     "metadata": {},
     "output_type": "execute_result"
    }
   ],
   "source": [
    "ts= (0.5 + np.arange(N)) / N\n",
    "ts"
   ]
  },
  {
   "cell_type": "code",
   "execution_count": 34,
   "metadata": {},
   "outputs": [
    {
     "data": {
      "text/plain": [
       "array([2.50000e-01, 7.50000e-01, 1.25000e+00, ..., 5.51125e+03,\n",
       "       5.51175e+03, 5.51225e+03])"
      ]
     },
     "execution_count": 34,
     "metadata": {},
     "output_type": "execute_result"
    }
   ],
   "source": [
    "fs=(0.5 + np.arange(N))/2\n",
    "fs"
   ]
  },
  {
   "cell_type": "code",
   "execution_count": 35,
   "metadata": {},
   "outputs": [],
   "source": [
    "args = np.outer(ts, fs)\n",
    "M = np.cos(PI2 * args)"
   ]
  },
  {
   "cell_type": "code",
   "execution_count": 36,
   "metadata": {},
   "outputs": [
    {
     "data": {
      "text/plain": [
       "array([ 0.23516962,  0.29450585,  0.17585912, ...,  0.24999978,\n",
       "       -0.25000015,  0.24999995])"
      ]
     },
     "execution_count": 36,
     "metadata": {},
     "output_type": "execute_result"
    }
   ],
   "source": [
    "amps = M@ys / 2\n",
    "amps"
   ]
  },
  {
   "cell_type": "code",
   "execution_count": 37,
   "metadata": {},
   "outputs": [],
   "source": [
    "def dct_iv(ys):\n",
    "    N=len(ys)\n",
    "    ts= (0.5 + np.arange(N)) / N\n",
    "    fs= (0.5 + np.arange(N)) / 2\n",
    "    args =np.outer(ts, fs)\n",
    "    M=np.cos(PI2*args)\n",
    "    amps=M@ys/2\n",
    "    return amps\n"
   ]
  },
  {
   "cell_type": "code",
   "execution_count": 38,
   "metadata": {},
   "outputs": [
    {
     "data": {
      "text/plain": [
       "8.326672684688674e-17"
      ]
     },
     "execution_count": 38,
     "metadata": {},
     "output_type": "execute_result"
    }
   ],
   "source": [
    "amps = np.array([0.6, 0.25, 0.1, 0.05])\n",
    "N = 4.0\n",
    "ts = (0.5 + np.arange(N)) / N\n",
    "fs = (0.5 + np.arange(N)) / 2\n",
    "ys = synthesize2(amps, fs, ts)\n",
    "\n",
    "amps2 = dct_iv(ys)\n",
    "np.max(np.abs(amps - amps2))"
   ]
  },
  {
   "cell_type": "code",
   "execution_count": null,
   "metadata": {},
   "outputs": [],
   "source": []
  }
 ],
 "metadata": {
  "kernelspec": {
   "display_name": "Python 3",
   "language": "python",
   "name": "python3"
  },
  "language_info": {
   "codemirror_mode": {
    "name": "ipython",
    "version": 3
   },
   "file_extension": ".py",
   "mimetype": "text/x-python",
   "name": "python",
   "nbconvert_exporter": "python",
   "pygments_lexer": "ipython3",
   "version": "3.7.4"
  }
 },
 "nbformat": 4,
 "nbformat_minor": 2
}
